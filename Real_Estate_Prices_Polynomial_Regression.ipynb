{
  "nbformat": 4,
  "nbformat_minor": 0,
  "metadata": {
    "colab": {
      "name": "Real_Estate_Prices_Polynomial_Regression",
      "provenance": [],
      "authorship_tag": "ABX9TyPBRTcjBrddSy985I1Q2m9p",
      "include_colab_link": true
    },
    "kernelspec": {
      "name": "python3",
      "display_name": "Python 3"
    },
    "language_info": {
      "name": "python"
    }
  },
  "cells": [
    {
      "cell_type": "markdown",
      "metadata": {
        "id": "view-in-github",
        "colab_type": "text"
      },
      "source": [
        "<a href=\"https://colab.research.google.com/github/sylvia830/Real_Estate_Prices_Prediction/blob/main/Real_Estate_Prices_Polynomial_Regression.ipynb\" target=\"_parent\"><img src=\"https://colab.research.google.com/assets/colab-badge.svg\" alt=\"Open In Colab\"/></a>"
      ]
    },
    {
      "cell_type": "code",
      "metadata": {
        "id": "LS-SBMEJ-fTr"
      },
      "source": [
        "#import libraries\n",
        "import numpy as np\n",
        "import matplotlib.pyplot as plt\n",
        "import pandas as pd"
      ],
      "execution_count": 1,
      "outputs": []
    },
    {
      "cell_type": "code",
      "metadata": {
        "id": "ONDe_vpo_sqZ"
      },
      "source": [
        "#import dataset\n",
        "dataset = pd.read_csv('Real estate.csv')\n",
        "X = dataset.iloc[:, :-1].values\n",
        "y = dataset.iloc[:,-1].values"
      ],
      "execution_count": 2,
      "outputs": []
    },
    {
      "cell_type": "code",
      "metadata": {
        "id": "vgYF1zd8A-Au"
      },
      "source": [
        "dataset.head()"
      ],
      "execution_count": null,
      "outputs": []
    },
    {
      "cell_type": "code",
      "metadata": {
        "id": "ZM9Sbk9dBuC_"
      },
      "source": [
        "#split the dataset into training set and test set\n",
        "from sklearn.model_selection import train_test_split\n",
        "X_train, X_test, y_train, y_test = train_test_split(X, y, test_size = 0.2, random_state = 1)"
      ],
      "execution_count": 4,
      "outputs": []
    },
    {
      "cell_type": "code",
      "metadata": {
        "id": "mEOulzgTFrj6"
      },
      "source": [
        "#convert the scientific notation to float notation\n",
        "float_formatter = \"{:.7f}\".format\n",
        "np.set_printoptions(formatter={'float_kind':float_formatter})\n",
        "print(X_test)"
      ],
      "execution_count": null,
      "outputs": []
    },
    {
      "cell_type": "code",
      "metadata": {
        "id": "EIRy8hAOFxSJ"
      },
      "source": [
        "#train the polynomial model on the training set \n",
        "from sklearn.preprocessing import PolynomialFeatures\n",
        "from sklearn.linear_model import LinearRegression\n",
        "poly_reg =PolynomialFeatures(degree = 2)\n",
        "x_poly = poly_reg.fit_transform(X)\n",
        "lin_reg = LinearRegression()\n",
        "lin_reg.fit(x_poly, y)"
      ],
      "execution_count": null,
      "outputs": []
    },
    {
      "cell_type": "code",
      "metadata": {
        "id": "3KiSjPN_NLhz"
      },
      "source": [
        "#predict test results\n",
        "y_pred = lin_reg.predict(poly_reg.fit_transform(X_test))\n",
        "print(y_pred)"
      ],
      "execution_count": null,
      "outputs": []
    },
    {
      "cell_type": "code",
      "metadata": {
        "id": "_i9zoHW-O4ns"
      },
      "source": [
        "#compare predicted results with y_test\n",
        "print(np.concatenate((y_pred.reshape(len(y_pred),1),y_test.reshape(len(y_test),1)), 1))"
      ],
      "execution_count": null,
      "outputs": []
    },
    {
      "cell_type": "code",
      "metadata": {
        "colab": {
          "base_uri": "https://localhost:8080/"
        },
        "id": "T8V8E8wGRocI",
        "outputId": "bb811a42-cdb0-4fb6-8437-05cf51836695"
      },
      "source": [
        "#evaluate the model performance\n",
        "from sklearn.metrics import r2_score\n",
        "r2_score(y_test, y_pred)"
      ],
      "execution_count": 15,
      "outputs": [
        {
          "output_type": "execute_result",
          "data": {
            "text/plain": [
              "0.7934773157035822"
            ]
          },
          "metadata": {},
          "execution_count": 15
        }
      ]
    },
    {
      "cell_type": "code",
      "metadata": {
        "colab": {
          "base_uri": "https://localhost:8080/"
        },
        "id": "b71LFMWq_23t",
        "outputId": "550da37d-eb6d-43c0-b679-579132ba6767"
      },
      "source": [
        "#train the polynomial regression model on the training set with a degree of 3\n",
        "from sklearn.preprocessing import PolynomialFeatures\n",
        "from sklearn.linear_model import LinearRegression\n",
        "poly_reg1 = PolynomialFeatures(degree=7)\n",
        "x_poly1 = poly_reg1.fit_transform(X)\n",
        "lin_reg1 = LinearRegression()\n",
        "lin_reg1.fit(x_poly1, y)"
      ],
      "execution_count": 42,
      "outputs": [
        {
          "output_type": "execute_result",
          "data": {
            "text/plain": [
              "LinearRegression()"
            ]
          },
          "metadata": {},
          "execution_count": 42
        }
      ]
    },
    {
      "cell_type": "code",
      "metadata": {
        "colab": {
          "base_uri": "https://localhost:8080/"
        },
        "id": "88dsiD8BBSEc",
        "outputId": "3d7b1f5d-0028-4b38-9da9-931ed0503ab8"
      },
      "source": [
        "#predict the results for new degree\n",
        "y_pred_new = lin_reg1.predict(poly_reg1.fit_transform(X_test))\n",
        "print(y_pred_new)"
      ],
      "execution_count": 43,
      "outputs": [
        {
          "output_type": "stream",
          "name": "stdout",
          "text": [
            "[27.1540587 50.6734031 21.9217161 11.7490278 45.1992048 22.9252199\n",
            " 22.4289966 31.7919907 37.5813999 22.5755115 17.4119020 36.5633403\n",
            " 22.5746324 36.2847881 55.4451674 21.0229273 44.2971183 39.5938409\n",
            " 27.7135448 45.2512459 46.4592821 21.8444163 38.0021282 54.2703619\n",
            " 59.5330206 25.6980460 32.1212427 56.9357011 43.0607804 16.6337324\n",
            " 33.7665376 34.0424023 40.3528064 52.5376652 47.6774408 12.9750496\n",
            " 37.2130298 32.3375114 44.9123353 20.2617441 40.0575940 16.2971381\n",
            " 59.2685963 33.7016988 31.4449835 21.9182102 21.1278304 42.4641899\n",
            " 38.9675328 39.6035807 18.4854313 45.1977924 40.2477539 15.3791338\n",
            " 50.6924394 36.3453204 51.6327777 36.5695638 26.5150838 38.8499591\n",
            " 12.8843839 32.7817143 29.2635594 19.3327452 43.1165472 32.6909322\n",
            " 43.0631262 42.1077231 15.9718300 43.2637814 49.9409785 15.4739910\n",
            " 29.7247945 25.3349879 49.2547102 37.0247958 31.6776700 36.3882348\n",
            " 34.6168885 57.3314203 42.7997159 52.1199430 47.2216152]\n"
          ]
        }
      ]
    },
    {
      "cell_type": "code",
      "metadata": {
        "id": "JBhYe81TBu58"
      },
      "source": [
        "#compare the new results with y_test\n",
        "print(np.concatenate((y_pred_new.reshape(len(y_pred_new),1), y_test.reshape(len(y_test),1)),1))"
      ],
      "execution_count": null,
      "outputs": []
    },
    {
      "cell_type": "code",
      "metadata": {
        "colab": {
          "base_uri": "https://localhost:8080/"
        },
        "id": "FQKYNnmmCVUk",
        "outputId": "4b20bee2-6226-4c69-bf3c-618582b3b053"
      },
      "source": [
        "#evalute the model performance\n",
        "from sklearn.metrics import r2_score\n",
        "r2_score(y_test, y_pred_new)"
      ],
      "execution_count": 45,
      "outputs": [
        {
          "output_type": "execute_result",
          "data": {
            "text/plain": [
              "0.9916092070641795"
            ]
          },
          "metadata": {},
          "execution_count": 45
        }
      ]
    }
  ]
}