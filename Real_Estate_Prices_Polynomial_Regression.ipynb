{
  "nbformat": 4,
  "nbformat_minor": 0,
  "metadata": {
    "colab": {
      "name": "Real_Estate_Prices_Polynomial_Regression",
      "provenance": [],
      "authorship_tag": "ABX9TyPBRTcjBrddSy985I1Q2m9p",
      "include_colab_link": true
    },
    "kernelspec": {
      "name": "python3",
      "display_name": "Python 3"
    },
    "language_info": {
      "name": "python"
    }
  },
  "cells": [
    {
      "cell_type": "markdown",
      "metadata": {
        "id": "view-in-github",
        "colab_type": "text"
      },
      "source": [
        "<a href=\"https://colab.research.google.com/github/sylvia830/Real_Estate_Prices_Prediction/blob/main/Real_Estate_Prices_Polynomial_Regression.ipynb\" target=\"_parent\"><img src=\"https://colab.research.google.com/assets/colab-badge.svg\" alt=\"Open In Colab\"/></a>"
      ]
    },
    {
      "cell_type": "code",
      "metadata": {
        "id": "LS-SBMEJ-fTr"
      },
      "source": [
        "#import libraries\n",
        "import numpy as np\n",
        "import matplotlib.pyplot as plt\n",
        "import pandas as pd"
      ],
      "execution_count": 1,
      "outputs": []
    },
    {
      "cell_type": "code",
      "metadata": {
        "id": "ONDe_vpo_sqZ"
      },
      "source": [
        "#import dataset\n",
        "dataset = pd.read_csv('Real estate.csv')\n",
        "X = dataset.iloc[:, :-1].values\n",
        "y = dataset.iloc[:,-1].values"
      ],
      "execution_count": 2,
      "outputs": []
    },
    {
      "cell_type": "code",
      "metadata": {
        "colab": {
          "base_uri": "https://localhost:8080/",
          "height": 224
        },
        "id": "vgYF1zd8A-Au",
        "outputId": "4068cfb1-b4af-4b3c-bde0-c4718892e9bb"
      },
      "source": [
        "dataset.head()"
      ],
      "execution_count": 46,
      "outputs": [
        {
          "output_type": "execute_result",
          "data": {
            "text/html": [
              "<div>\n",
              "<style scoped>\n",
              "    .dataframe tbody tr th:only-of-type {\n",
              "        vertical-align: middle;\n",
              "    }\n",
              "\n",
              "    .dataframe tbody tr th {\n",
              "        vertical-align: top;\n",
              "    }\n",
              "\n",
              "    .dataframe thead th {\n",
              "        text-align: right;\n",
              "    }\n",
              "</style>\n",
              "<table border=\"1\" class=\"dataframe\">\n",
              "  <thead>\n",
              "    <tr style=\"text-align: right;\">\n",
              "      <th></th>\n",
              "      <th>No</th>\n",
              "      <th>X1 transaction date</th>\n",
              "      <th>X2 house age</th>\n",
              "      <th>X3 distance to the nearest MRT station</th>\n",
              "      <th>X4 number of convenience stores</th>\n",
              "      <th>X5 latitude</th>\n",
              "      <th>X6 longitude</th>\n",
              "      <th>Y house price of unit area</th>\n",
              "    </tr>\n",
              "  </thead>\n",
              "  <tbody>\n",
              "    <tr>\n",
              "      <th>0</th>\n",
              "      <td>1</td>\n",
              "      <td>2012.917</td>\n",
              "      <td>32.0</td>\n",
              "      <td>84.87882</td>\n",
              "      <td>10</td>\n",
              "      <td>24.98298</td>\n",
              "      <td>121.54024</td>\n",
              "      <td>37.9</td>\n",
              "    </tr>\n",
              "    <tr>\n",
              "      <th>1</th>\n",
              "      <td>2</td>\n",
              "      <td>2012.917</td>\n",
              "      <td>19.5</td>\n",
              "      <td>306.59470</td>\n",
              "      <td>9</td>\n",
              "      <td>24.98034</td>\n",
              "      <td>121.53951</td>\n",
              "      <td>42.2</td>\n",
              "    </tr>\n",
              "    <tr>\n",
              "      <th>2</th>\n",
              "      <td>3</td>\n",
              "      <td>2013.583</td>\n",
              "      <td>13.3</td>\n",
              "      <td>561.98450</td>\n",
              "      <td>5</td>\n",
              "      <td>24.98746</td>\n",
              "      <td>121.54391</td>\n",
              "      <td>47.3</td>\n",
              "    </tr>\n",
              "    <tr>\n",
              "      <th>3</th>\n",
              "      <td>4</td>\n",
              "      <td>2013.500</td>\n",
              "      <td>13.3</td>\n",
              "      <td>561.98450</td>\n",
              "      <td>5</td>\n",
              "      <td>24.98746</td>\n",
              "      <td>121.54391</td>\n",
              "      <td>54.8</td>\n",
              "    </tr>\n",
              "    <tr>\n",
              "      <th>4</th>\n",
              "      <td>5</td>\n",
              "      <td>2012.833</td>\n",
              "      <td>5.0</td>\n",
              "      <td>390.56840</td>\n",
              "      <td>5</td>\n",
              "      <td>24.97937</td>\n",
              "      <td>121.54245</td>\n",
              "      <td>43.1</td>\n",
              "    </tr>\n",
              "  </tbody>\n",
              "</table>\n",
              "</div>"
            ],
            "text/plain": [
              "   No  X1 transaction date  ...  X6 longitude  Y house price of unit area\n",
              "0   1             2012.917  ...     121.54024                        37.9\n",
              "1   2             2012.917  ...     121.53951                        42.2\n",
              "2   3             2013.583  ...     121.54391                        47.3\n",
              "3   4             2013.500  ...     121.54391                        54.8\n",
              "4   5             2012.833  ...     121.54245                        43.1\n",
              "\n",
              "[5 rows x 8 columns]"
            ]
          },
          "metadata": {},
          "execution_count": 46
        }
      ]
    },
    {
      "cell_type": "code",
      "metadata": {
        "id": "ZM9Sbk9dBuC_"
      },
      "source": [
        "#split the dataset into training set and test set\n",
        "from sklearn.model_selection import train_test_split\n",
        "X_train, X_test, y_train, y_test = train_test_split(X, y, test_size = 0.2, random_state = 1)"
      ],
      "execution_count": 4,
      "outputs": []
    },
    {
      "cell_type": "code",
      "metadata": {
        "id": "mEOulzgTFrj6"
      },
      "source": [
        "#convert the scientific notation to float notation\n",
        "float_formatter = \"{:.7f}\".format\n",
        "np.set_printoptions(formatter={'float_kind':float_formatter})\n",
        "print(X_test)"
      ],
      "execution_count": null,
      "outputs": []
    },
    {
      "cell_type": "code",
      "metadata": {
        "id": "EIRy8hAOFxSJ"
      },
      "source": [
        "#train the polynomial model on the training set \n",
        "from sklearn.preprocessing import PolynomialFeatures\n",
        "from sklearn.linear_model import LinearRegression\n",
        "poly_reg =PolynomialFeatures(degree = 2)\n",
        "x_poly = poly_reg.fit_transform(X)\n",
        "lin_reg = LinearRegression()\n",
        "lin_reg.fit(x_poly, y)"
      ],
      "execution_count": null,
      "outputs": []
    },
    {
      "cell_type": "code",
      "metadata": {
        "id": "3KiSjPN_NLhz"
      },
      "source": [
        "#predict test results\n",
        "y_pred = lin_reg.predict(poly_reg.fit_transform(X_test))\n",
        "print(y_pred)"
      ],
      "execution_count": null,
      "outputs": []
    },
    {
      "cell_type": "code",
      "metadata": {
        "colab": {
          "base_uri": "https://localhost:8080/"
        },
        "id": "_i9zoHW-O4ns",
        "outputId": "91d016e1-b4d6-46de-c832-8eaf700fcb17"
      },
      "source": [
        "#compare predicted results with y_test\n",
        "print(np.concatenate((y_pred.reshape(len(y_pred),1),y_test.reshape(len(y_test),1)), 1))"
      ],
      "execution_count": 47,
      "outputs": [
        {
          "output_type": "stream",
          "name": "stdout",
          "text": [
            "[[27.1207998 27.3000000]\n",
            " [53.1538439 54.4000000]\n",
            " [24.6119159 22.0000000]\n",
            " [17.0330874 11.6000000]\n",
            " [52.5895601 45.4000000]\n",
            " [29.0575984 23.0000000]\n",
            " [21.4780263 21.8000000]\n",
            " [41.0042550 32.2000000]\n",
            " [38.7561982 37.4000000]\n",
            " [18.0985256 22.6000000]\n",
            " [16.1247055 17.4000000]\n",
            " [37.3618827 36.8000000]\n",
            " [26.9958306 23.1000000]\n",
            " [47.8470237 36.9000000]\n",
            " [52.7888830 56.3000000]\n",
            " [28.6425998 20.9000000]\n",
            " [52.6276389 43.5000000]\n",
            " [45.2389874 40.3000000]\n",
            " [19.4357772 27.7000000]\n",
            " [42.8510003 42.1000000]\n",
            " [47.7147180 46.6000000]\n",
            " [16.9257708 21.8000000]\n",
            " [39.6999584 38.1000000]\n",
            " [48.1703181 53.7000000]\n",
            " [48.2683124 57.1000000]\n",
            " [20.1465143 26.6000000]\n",
            " [25.0639003 32.1000000]\n",
            " [50.9950760 56.8000000]\n",
            " [53.5442502 43.1000000]\n",
            " [20.8971322 16.7000000]\n",
            " [28.1671803 33.4000000]\n",
            " [37.4313139 34.2000000]\n",
            " [41.5917966 39.6000000]\n",
            " [44.7437441 52.5000000]\n",
            " [45.5372004 47.1000000]\n",
            " [19.0300221 13.0000000]\n",
            " [38.1767658 37.5000000]\n",
            " [41.1678372 32.5000000]\n",
            " [46.6830337 42.3000000]\n",
            " [17.2217400 20.5000000]\n",
            " [37.3031289 40.3000000]\n",
            " [14.2950412 16.1000000]\n",
            " [57.5390827 58.1000000]\n",
            " [29.9482989 33.4000000]\n",
            " [28.7295142 30.8000000]\n",
            " [34.1763749 21.7000000]\n",
            " [23.1428424 20.9000000]\n",
            " [36.6097703 42.5000000]\n",
            " [44.5488040 38.1000000]\n",
            " [40.9509045 39.6000000]\n",
            " [19.8363826 18.6000000]\n",
            " [48.8769576 44.3000000]\n",
            " [44.7835320 39.7000000]\n",
            " [20.3071036 15.4000000]\n",
            " [55.8712245 50.8000000]\n",
            " [43.3907813 36.3000000]\n",
            " [51.7536920 52.2000000]\n",
            " [37.6912986 37.8000000]\n",
            " [38.2728625 26.5000000]\n",
            " [37.2649215 42.5000000]\n",
            " [18.2670353 12.8000000]\n",
            " [40.2802125 32.9000000]\n",
            " [28.4920138 29.4000000]\n",
            " [20.4480259 19.2000000]\n",
            " [39.9139553 42.6000000]\n",
            " [46.0360166 32.4000000]\n",
            " [50.6415585 42.7000000]\n",
            " [44.8211122 42.3000000]\n",
            " [17.8892350 15.9000000]\n",
            " [40.2662025 43.9000000]\n",
            " [47.4589670 44.5000000]\n",
            " [16.9896176 15.5000000]\n",
            " [37.0404420 29.8000000]\n",
            " [35.5724264 24.5000000]\n",
            " [52.0959290 50.0000000]\n",
            " [38.0605820 37.2000000]\n",
            " [32.0173730 30.9000000]\n",
            " [35.0289206 37.0000000]\n",
            " [40.8647674 33.1000000]\n",
            " [48.8270720 59.6000000]\n",
            " [42.7868891 40.8000000]\n",
            " [46.6764847 52.2000000]\n",
            " [46.5622122 47.1000000]]\n"
          ]
        }
      ]
    },
    {
      "cell_type": "code",
      "metadata": {
        "colab": {
          "base_uri": "https://localhost:8080/"
        },
        "id": "T8V8E8wGRocI",
        "outputId": "bb811a42-cdb0-4fb6-8437-05cf51836695"
      },
      "source": [
        "#evaluate the model performance\n",
        "from sklearn.metrics import r2_score\n",
        "r2_score(y_test, y_pred)"
      ],
      "execution_count": 15,
      "outputs": [
        {
          "output_type": "execute_result",
          "data": {
            "text/plain": [
              "0.7934773157035822"
            ]
          },
          "metadata": {},
          "execution_count": 15
        }
      ]
    },
    {
      "cell_type": "code",
      "metadata": {
        "colab": {
          "base_uri": "https://localhost:8080/"
        },
        "id": "b71LFMWq_23t",
        "outputId": "550da37d-eb6d-43c0-b679-579132ba6767"
      },
      "source": [
        "#train the polynomial regression model on the training set with a degree of 3\n",
        "from sklearn.preprocessing import PolynomialFeatures\n",
        "from sklearn.linear_model import LinearRegression\n",
        "poly_reg1 = PolynomialFeatures(degree=7)\n",
        "x_poly1 = poly_reg1.fit_transform(X)\n",
        "lin_reg1 = LinearRegression()\n",
        "lin_reg1.fit(x_poly1, y)"
      ],
      "execution_count": 42,
      "outputs": [
        {
          "output_type": "execute_result",
          "data": {
            "text/plain": [
              "LinearRegression()"
            ]
          },
          "metadata": {},
          "execution_count": 42
        }
      ]
    },
    {
      "cell_type": "code",
      "metadata": {
        "id": "88dsiD8BBSEc"
      },
      "source": [
        "#predict the results for new degree\n",
        "y_pred_new = lin_reg1.predict(poly_reg1.fit_transform(X_test))\n",
        "print(y_pred_new)"
      ],
      "execution_count": null,
      "outputs": []
    },
    {
      "cell_type": "code",
      "metadata": {
        "colab": {
          "base_uri": "https://localhost:8080/"
        },
        "id": "JBhYe81TBu58",
        "outputId": "3e106389-c6ad-4606-e989-e20a3d6d2ee2"
      },
      "source": [
        "#compare the new results with y_test\n",
        "print(np.concatenate((y_pred_new.reshape(len(y_pred_new),1), y_test.reshape(len(y_test),1)),1))"
      ],
      "execution_count": 48,
      "outputs": [
        {
          "output_type": "stream",
          "name": "stdout",
          "text": [
            "[[27.1540587 27.3000000]\n",
            " [50.6734031 54.4000000]\n",
            " [21.9217161 22.0000000]\n",
            " [11.7490278 11.6000000]\n",
            " [45.1992048 45.4000000]\n",
            " [22.9252199 23.0000000]\n",
            " [22.4289966 21.8000000]\n",
            " [31.7919907 32.2000000]\n",
            " [37.5813999 37.4000000]\n",
            " [22.5755115 22.6000000]\n",
            " [17.4119020 17.4000000]\n",
            " [36.5633403 36.8000000]\n",
            " [22.5746324 23.1000000]\n",
            " [36.2847881 36.9000000]\n",
            " [55.4451674 56.3000000]\n",
            " [21.0229273 20.9000000]\n",
            " [44.2971183 43.5000000]\n",
            " [39.5938409 40.3000000]\n",
            " [27.7135448 27.7000000]\n",
            " [45.2512459 42.1000000]\n",
            " [46.4592821 46.6000000]\n",
            " [21.8444163 21.8000000]\n",
            " [38.0021282 38.1000000]\n",
            " [54.2703619 53.7000000]\n",
            " [59.5330206 57.1000000]\n",
            " [25.6980460 26.6000000]\n",
            " [32.1212427 32.1000000]\n",
            " [56.9357011 56.8000000]\n",
            " [43.0607804 43.1000000]\n",
            " [16.6337324 16.7000000]\n",
            " [33.7665376 33.4000000]\n",
            " [34.0424023 34.2000000]\n",
            " [40.3528064 39.6000000]\n",
            " [52.5376652 52.5000000]\n",
            " [47.6774408 47.1000000]\n",
            " [12.9750496 13.0000000]\n",
            " [37.2130298 37.5000000]\n",
            " [32.3375114 32.5000000]\n",
            " [44.9123353 42.3000000]\n",
            " [20.2617441 20.5000000]\n",
            " [40.0575940 40.3000000]\n",
            " [16.2971381 16.1000000]\n",
            " [59.2685963 58.1000000]\n",
            " [33.7016988 33.4000000]\n",
            " [31.4449835 30.8000000]\n",
            " [21.9182102 21.7000000]\n",
            " [21.1278304 20.9000000]\n",
            " [42.4641899 42.5000000]\n",
            " [38.9675328 38.1000000]\n",
            " [39.6035807 39.6000000]\n",
            " [18.4854313 18.6000000]\n",
            " [45.1977924 44.3000000]\n",
            " [40.2477539 39.7000000]\n",
            " [15.3791338 15.4000000]\n",
            " [50.6924394 50.8000000]\n",
            " [36.3453204 36.3000000]\n",
            " [51.6327777 52.2000000]\n",
            " [36.5695638 37.8000000]\n",
            " [26.5150838 26.5000000]\n",
            " [38.8499591 42.5000000]\n",
            " [12.8843839 12.8000000]\n",
            " [32.7817143 32.9000000]\n",
            " [29.2635594 29.4000000]\n",
            " [19.3327452 19.2000000]\n",
            " [43.1165472 42.6000000]\n",
            " [32.6909322 32.4000000]\n",
            " [43.0631262 42.7000000]\n",
            " [42.1077231 42.3000000]\n",
            " [15.9718300 15.9000000]\n",
            " [43.2637814 43.9000000]\n",
            " [49.9409785 44.5000000]\n",
            " [15.4739910 15.5000000]\n",
            " [29.7247945 29.8000000]\n",
            " [25.3349879 24.5000000]\n",
            " [49.2547102 50.0000000]\n",
            " [37.0247958 37.2000000]\n",
            " [31.6776700 30.9000000]\n",
            " [36.3882348 37.0000000]\n",
            " [34.6168885 33.1000000]\n",
            " [57.3314203 59.6000000]\n",
            " [42.7997159 40.8000000]\n",
            " [52.1199430 52.2000000]\n",
            " [47.2216152 47.1000000]]\n"
          ]
        }
      ]
    },
    {
      "cell_type": "code",
      "metadata": {
        "colab": {
          "base_uri": "https://localhost:8080/"
        },
        "id": "FQKYNnmmCVUk",
        "outputId": "4b20bee2-6226-4c69-bf3c-618582b3b053"
      },
      "source": [
        "#evalute the model performance\n",
        "from sklearn.metrics import r2_score\n",
        "r2_score(y_test, y_pred_new)"
      ],
      "execution_count": 45,
      "outputs": [
        {
          "output_type": "execute_result",
          "data": {
            "text/plain": [
              "0.9916092070641795"
            ]
          },
          "metadata": {},
          "execution_count": 45
        }
      ]
    }
  ]
}