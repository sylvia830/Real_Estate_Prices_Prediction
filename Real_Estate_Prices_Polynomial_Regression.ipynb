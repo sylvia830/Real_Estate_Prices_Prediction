{
  "nbformat": 4,
  "nbformat_minor": 0,
  "metadata": {
    "colab": {
      "name": "Real_Estate_Prices_Polynomial_Regression",
      "provenance": [],
      "authorship_tag": "ABX9TyOw6nOW57CtZreDMQDCUyI6",
      "include_colab_link": true
    },
    "kernelspec": {
      "name": "python3",
      "display_name": "Python 3"
    },
    "language_info": {
      "name": "python"
    }
  },
  "cells": [
    {
      "cell_type": "markdown",
      "metadata": {
        "id": "view-in-github",
        "colab_type": "text"
      },
      "source": [
        "<a href=\"https://colab.research.google.com/github/sylvia830/Real_Estate_Prices_Prediction/blob/main/Real_Estate_Prices_Polynomial_Regression.ipynb\" target=\"_parent\"><img src=\"https://colab.research.google.com/assets/colab-badge.svg\" alt=\"Open In Colab\"/></a>"
      ]
    },
    {
      "cell_type": "code",
      "metadata": {
        "id": "LS-SBMEJ-fTr"
      },
      "source": [
        "#import libraries\n",
        "import numpy as np\n",
        "import matplotlib.pyplot as plt\n",
        "import pandas as pd"
      ],
      "execution_count": 7,
      "outputs": []
    },
    {
      "cell_type": "code",
      "metadata": {
        "id": "ONDe_vpo_sqZ"
      },
      "source": [
        "#import dataset\n",
        "dataset = pd.read_csv('Real estate.csv')\n",
        "X = dataset.iloc[:, :-1].values\n",
        "y = dataset.iloc[:,-1].values"
      ],
      "execution_count": 8,
      "outputs": []
    },
    {
      "cell_type": "code",
      "metadata": {
        "colab": {
          "base_uri": "https://localhost:8080/",
          "height": 224
        },
        "id": "vgYF1zd8A-Au",
        "outputId": "a14fee87-23c3-4b60-9a68-096b9b62f567"
      },
      "source": [
        "dataset.head()"
      ],
      "execution_count": 9,
      "outputs": [
        {
          "output_type": "execute_result",
          "data": {
            "text/html": [
              "<div>\n",
              "<style scoped>\n",
              "    .dataframe tbody tr th:only-of-type {\n",
              "        vertical-align: middle;\n",
              "    }\n",
              "\n",
              "    .dataframe tbody tr th {\n",
              "        vertical-align: top;\n",
              "    }\n",
              "\n",
              "    .dataframe thead th {\n",
              "        text-align: right;\n",
              "    }\n",
              "</style>\n",
              "<table border=\"1\" class=\"dataframe\">\n",
              "  <thead>\n",
              "    <tr style=\"text-align: right;\">\n",
              "      <th></th>\n",
              "      <th>No</th>\n",
              "      <th>X1 transaction date</th>\n",
              "      <th>X2 house age</th>\n",
              "      <th>X3 distance to the nearest MRT station</th>\n",
              "      <th>X4 number of convenience stores</th>\n",
              "      <th>X5 latitude</th>\n",
              "      <th>X6 longitude</th>\n",
              "      <th>Y house price of unit area</th>\n",
              "    </tr>\n",
              "  </thead>\n",
              "  <tbody>\n",
              "    <tr>\n",
              "      <th>0</th>\n",
              "      <td>1</td>\n",
              "      <td>2012.917</td>\n",
              "      <td>32.0</td>\n",
              "      <td>84.87882</td>\n",
              "      <td>10</td>\n",
              "      <td>24.98298</td>\n",
              "      <td>121.54024</td>\n",
              "      <td>37.9</td>\n",
              "    </tr>\n",
              "    <tr>\n",
              "      <th>1</th>\n",
              "      <td>2</td>\n",
              "      <td>2012.917</td>\n",
              "      <td>19.5</td>\n",
              "      <td>306.59470</td>\n",
              "      <td>9</td>\n",
              "      <td>24.98034</td>\n",
              "      <td>121.53951</td>\n",
              "      <td>42.2</td>\n",
              "    </tr>\n",
              "    <tr>\n",
              "      <th>2</th>\n",
              "      <td>3</td>\n",
              "      <td>2013.583</td>\n",
              "      <td>13.3</td>\n",
              "      <td>561.98450</td>\n",
              "      <td>5</td>\n",
              "      <td>24.98746</td>\n",
              "      <td>121.54391</td>\n",
              "      <td>47.3</td>\n",
              "    </tr>\n",
              "    <tr>\n",
              "      <th>3</th>\n",
              "      <td>4</td>\n",
              "      <td>2013.500</td>\n",
              "      <td>13.3</td>\n",
              "      <td>561.98450</td>\n",
              "      <td>5</td>\n",
              "      <td>24.98746</td>\n",
              "      <td>121.54391</td>\n",
              "      <td>54.8</td>\n",
              "    </tr>\n",
              "    <tr>\n",
              "      <th>4</th>\n",
              "      <td>5</td>\n",
              "      <td>2012.833</td>\n",
              "      <td>5.0</td>\n",
              "      <td>390.56840</td>\n",
              "      <td>5</td>\n",
              "      <td>24.97937</td>\n",
              "      <td>121.54245</td>\n",
              "      <td>43.1</td>\n",
              "    </tr>\n",
              "  </tbody>\n",
              "</table>\n",
              "</div>"
            ],
            "text/plain": [
              "   No  X1 transaction date  ...  X6 longitude  Y house price of unit area\n",
              "0   1             2012.917  ...     121.54024                        37.9\n",
              "1   2             2012.917  ...     121.53951                        42.2\n",
              "2   3             2013.583  ...     121.54391                        47.3\n",
              "3   4             2013.500  ...     121.54391                        54.8\n",
              "4   5             2012.833  ...     121.54245                        43.1\n",
              "\n",
              "[5 rows x 8 columns]"
            ]
          },
          "metadata": {},
          "execution_count": 9
        }
      ]
    },
    {
      "cell_type": "code",
      "metadata": {
        "colab": {
          "base_uri": "https://localhost:8080/"
        },
        "id": "89iy0ngpKUTj",
        "outputId": "ecb9a180-134a-4f3c-eaa5-5e098143c649"
      },
      "source": [
        "#give a brief summary of the dataset\n",
        "dataset.info(null_counts=False)"
      ],
      "execution_count": 10,
      "outputs": [
        {
          "output_type": "stream",
          "name": "stdout",
          "text": [
            "<class 'pandas.core.frame.DataFrame'>\n",
            "RangeIndex: 414 entries, 0 to 413\n",
            "Data columns (total 8 columns):\n",
            " #   Column                                  Dtype  \n",
            "---  ------                                  -----  \n",
            " 0   No                                      int64  \n",
            " 1   X1 transaction date                     float64\n",
            " 2   X2 house age                            float64\n",
            " 3   X3 distance to the nearest MRT station  float64\n",
            " 4   X4 number of convenience stores         int64  \n",
            " 5   X5 latitude                             float64\n",
            " 6   X6 longitude                            float64\n",
            " 7   Y house price of unit area              float64\n",
            "dtypes: float64(6), int64(2)\n",
            "memory usage: 26.0 KB\n"
          ]
        }
      ]
    },
    {
      "cell_type": "code",
      "metadata": {
        "id": "ZM9Sbk9dBuC_"
      },
      "source": [
        "#split the dataset into training set and test set\n",
        "from sklearn.model_selection import train_test_split\n",
        "X_train, X_test, y_train, y_test = train_test_split(X, y, test_size = 0.2, random_state = 1)"
      ],
      "execution_count": 11,
      "outputs": []
    },
    {
      "cell_type": "code",
      "metadata": {
        "id": "mEOulzgTFrj6"
      },
      "source": [
        "#convert the scientific notation to float notation\n",
        "float_formatter = \"{:.7f}\".format\n",
        "np.set_printoptions(formatter={'float_kind':float_formatter})\n",
        "print(X_test)"
      ],
      "execution_count": null,
      "outputs": []
    },
    {
      "cell_type": "markdown",
      "metadata": {
        "id": "htUQ_JLOPmUj"
      },
      "source": [
        "**Using Polynomial Regression model to predict the prices:**"
      ]
    },
    {
      "cell_type": "code",
      "metadata": {
        "id": "EIRy8hAOFxSJ"
      },
      "source": [
        "#train the polynomial model on the training set \n",
        "from sklearn.preprocessing import PolynomialFeatures\n",
        "from sklearn.linear_model import LinearRegression\n",
        "poly_reg =PolynomialFeatures(degree = 2)\n",
        "x_poly = poly_reg.fit_transform(X)\n",
        "lin_reg = LinearRegression()\n",
        "lin_reg.fit(x_poly, y)"
      ],
      "execution_count": null,
      "outputs": []
    },
    {
      "cell_type": "code",
      "metadata": {
        "id": "3KiSjPN_NLhz"
      },
      "source": [
        "#predict test results\n",
        "y_pred = lin_reg.predict(poly_reg.fit_transform(X_test))\n",
        "print(y_pred)"
      ],
      "execution_count": null,
      "outputs": []
    },
    {
      "cell_type": "code",
      "metadata": {
        "colab": {
          "base_uri": "https://localhost:8080/"
        },
        "id": "_i9zoHW-O4ns",
        "outputId": "ab7b5d65-9b00-47f6-88da-00db36642ad9"
      },
      "source": [
        "#compare predicted results with y_test\n",
        "print(np.concatenate((y_pred.reshape(len(y_pred),1),y_test.reshape(len(y_test),1)), 1))"
      ],
      "execution_count": 22,
      "outputs": [
        {
          "output_type": "stream",
          "name": "stdout",
          "text": [
            "[[27.1207998 27.3000000]\n",
            " [53.1538439 54.4000000]\n",
            " [24.6119159 22.0000000]\n",
            " [17.0330874 11.6000000]\n",
            " [52.5895601 45.4000000]\n",
            " [29.0575984 23.0000000]\n",
            " [21.4780263 21.8000000]\n",
            " [41.0042550 32.2000000]\n",
            " [38.7561982 37.4000000]\n",
            " [18.0985256 22.6000000]\n",
            " [16.1247055 17.4000000]\n",
            " [37.3618827 36.8000000]\n",
            " [26.9958306 23.1000000]\n",
            " [47.8470237 36.9000000]\n",
            " [52.7888830 56.3000000]\n",
            " [28.6425998 20.9000000]\n",
            " [52.6276389 43.5000000]\n",
            " [45.2389874 40.3000000]\n",
            " [19.4357772 27.7000000]\n",
            " [42.8510003 42.1000000]\n",
            " [47.7147180 46.6000000]\n",
            " [16.9257708 21.8000000]\n",
            " [39.6999584 38.1000000]\n",
            " [48.1703181 53.7000000]\n",
            " [48.2683124 57.1000000]\n",
            " [20.1465143 26.6000000]\n",
            " [25.0639003 32.1000000]\n",
            " [50.9950760 56.8000000]\n",
            " [53.5442502 43.1000000]\n",
            " [20.8971322 16.7000000]\n",
            " [28.1671803 33.4000000]\n",
            " [37.4313139 34.2000000]\n",
            " [41.5917966 39.6000000]\n",
            " [44.7437441 52.5000000]\n",
            " [45.5372004 47.1000000]\n",
            " [19.0300221 13.0000000]\n",
            " [38.1767658 37.5000000]\n",
            " [41.1678372 32.5000000]\n",
            " [46.6830337 42.3000000]\n",
            " [17.2217400 20.5000000]\n",
            " [37.3031289 40.3000000]\n",
            " [14.2950412 16.1000000]\n",
            " [57.5390827 58.1000000]\n",
            " [29.9482989 33.4000000]\n",
            " [28.7295142 30.8000000]\n",
            " [34.1763749 21.7000000]\n",
            " [23.1428424 20.9000000]\n",
            " [36.6097703 42.5000000]\n",
            " [44.5488040 38.1000000]\n",
            " [40.9509045 39.6000000]\n",
            " [19.8363826 18.6000000]\n",
            " [48.8769576 44.3000000]\n",
            " [44.7835320 39.7000000]\n",
            " [20.3071036 15.4000000]\n",
            " [55.8712245 50.8000000]\n",
            " [43.3907813 36.3000000]\n",
            " [51.7536920 52.2000000]\n",
            " [37.6912986 37.8000000]\n",
            " [38.2728625 26.5000000]\n",
            " [37.2649215 42.5000000]\n",
            " [18.2670353 12.8000000]\n",
            " [40.2802125 32.9000000]\n",
            " [28.4920138 29.4000000]\n",
            " [20.4480259 19.2000000]\n",
            " [39.9139553 42.6000000]\n",
            " [46.0360166 32.4000000]\n",
            " [50.6415585 42.7000000]\n",
            " [44.8211122 42.3000000]\n",
            " [17.8892350 15.9000000]\n",
            " [40.2662025 43.9000000]\n",
            " [47.4589670 44.5000000]\n",
            " [16.9896176 15.5000000]\n",
            " [37.0404420 29.8000000]\n",
            " [35.5724264 24.5000000]\n",
            " [52.0959290 50.0000000]\n",
            " [38.0605820 37.2000000]\n",
            " [32.0173730 30.9000000]\n",
            " [35.0289206 37.0000000]\n",
            " [40.8647674 33.1000000]\n",
            " [48.8270720 59.6000000]\n",
            " [42.7868891 40.8000000]\n",
            " [46.6764847 52.2000000]\n",
            " [46.5622122 47.1000000]]\n"
          ]
        }
      ]
    },
    {
      "cell_type": "code",
      "metadata": {
        "colab": {
          "base_uri": "https://localhost:8080/"
        },
        "id": "T8V8E8wGRocI",
        "outputId": "e9ddcaa0-1fd6-4dae-ec9b-9234c6fb6946"
      },
      "source": [
        "#evaluate the model performance\n",
        "from sklearn.metrics import r2_score\n",
        "r2_score(y_test, y_pred)"
      ],
      "execution_count": 23,
      "outputs": [
        {
          "output_type": "execute_result",
          "data": {
            "text/plain": [
              "0.7934773157035822"
            ]
          },
          "metadata": {},
          "execution_count": 23
        }
      ]
    },
    {
      "cell_type": "code",
      "metadata": {
        "id": "b71LFMWq_23t"
      },
      "source": [
        "#train the polynomial regression model on the training set with a degree of 7\n",
        "from sklearn.preprocessing import PolynomialFeatures\n",
        "from sklearn.linear_model import LinearRegression\n",
        "poly_reg1 = PolynomialFeatures(degree=7)\n",
        "x_poly1 = poly_reg1.fit_transform(X)\n",
        "lin_reg1 = LinearRegression()\n",
        "lin_reg1.fit(x_poly1, y)"
      ],
      "execution_count": null,
      "outputs": []
    },
    {
      "cell_type": "code",
      "metadata": {
        "id": "88dsiD8BBSEc"
      },
      "source": [
        "#predict the results for new degree\n",
        "y_pred_new = lin_reg1.predict(poly_reg1.fit_transform(X_test))\n",
        "print(y_pred_new)"
      ],
      "execution_count": null,
      "outputs": []
    },
    {
      "cell_type": "code",
      "metadata": {
        "colab": {
          "base_uri": "https://localhost:8080/"
        },
        "id": "JBhYe81TBu58",
        "outputId": "a0d7a2da-e2c0-4c2d-ebbf-0f3692a8cd8e"
      },
      "source": [
        "#compare the new results with y_test\n",
        "print(np.concatenate((y_pred_new.reshape(len(y_pred_new),1), y_test.reshape(len(y_test),1)),1))"
      ],
      "execution_count": 26,
      "outputs": [
        {
          "output_type": "stream",
          "name": "stdout",
          "text": [
            "[[27.1540587 27.3000000]\n",
            " [50.6734031 54.4000000]\n",
            " [21.9217161 22.0000000]\n",
            " [11.7490278 11.6000000]\n",
            " [45.1992048 45.4000000]\n",
            " [22.9252199 23.0000000]\n",
            " [22.4289966 21.8000000]\n",
            " [31.7919907 32.2000000]\n",
            " [37.5813999 37.4000000]\n",
            " [22.5755115 22.6000000]\n",
            " [17.4119020 17.4000000]\n",
            " [36.5633403 36.8000000]\n",
            " [22.5746324 23.1000000]\n",
            " [36.2847881 36.9000000]\n",
            " [55.4451674 56.3000000]\n",
            " [21.0229273 20.9000000]\n",
            " [44.2971183 43.5000000]\n",
            " [39.5938409 40.3000000]\n",
            " [27.7135448 27.7000000]\n",
            " [45.2512459 42.1000000]\n",
            " [46.4592821 46.6000000]\n",
            " [21.8444163 21.8000000]\n",
            " [38.0021282 38.1000000]\n",
            " [54.2703619 53.7000000]\n",
            " [59.5330206 57.1000000]\n",
            " [25.6980460 26.6000000]\n",
            " [32.1212427 32.1000000]\n",
            " [56.9357011 56.8000000]\n",
            " [43.0607804 43.1000000]\n",
            " [16.6337324 16.7000000]\n",
            " [33.7665376 33.4000000]\n",
            " [34.0424023 34.2000000]\n",
            " [40.3528064 39.6000000]\n",
            " [52.5376652 52.5000000]\n",
            " [47.6774408 47.1000000]\n",
            " [12.9750496 13.0000000]\n",
            " [37.2130298 37.5000000]\n",
            " [32.3375114 32.5000000]\n",
            " [44.9123353 42.3000000]\n",
            " [20.2617441 20.5000000]\n",
            " [40.0575940 40.3000000]\n",
            " [16.2971381 16.1000000]\n",
            " [59.2685963 58.1000000]\n",
            " [33.7016988 33.4000000]\n",
            " [31.4449835 30.8000000]\n",
            " [21.9182102 21.7000000]\n",
            " [21.1278304 20.9000000]\n",
            " [42.4641899 42.5000000]\n",
            " [38.9675328 38.1000000]\n",
            " [39.6035807 39.6000000]\n",
            " [18.4854313 18.6000000]\n",
            " [45.1977924 44.3000000]\n",
            " [40.2477539 39.7000000]\n",
            " [15.3791338 15.4000000]\n",
            " [50.6924394 50.8000000]\n",
            " [36.3453204 36.3000000]\n",
            " [51.6327777 52.2000000]\n",
            " [36.5695638 37.8000000]\n",
            " [26.5150838 26.5000000]\n",
            " [38.8499591 42.5000000]\n",
            " [12.8843839 12.8000000]\n",
            " [32.7817143 32.9000000]\n",
            " [29.2635594 29.4000000]\n",
            " [19.3327452 19.2000000]\n",
            " [43.1165472 42.6000000]\n",
            " [32.6909322 32.4000000]\n",
            " [43.0631262 42.7000000]\n",
            " [42.1077231 42.3000000]\n",
            " [15.9718300 15.9000000]\n",
            " [43.2637814 43.9000000]\n",
            " [49.9409785 44.5000000]\n",
            " [15.4739910 15.5000000]\n",
            " [29.7247945 29.8000000]\n",
            " [25.3349879 24.5000000]\n",
            " [49.2547102 50.0000000]\n",
            " [37.0247958 37.2000000]\n",
            " [31.6776700 30.9000000]\n",
            " [36.3882348 37.0000000]\n",
            " [34.6168885 33.1000000]\n",
            " [57.3314203 59.6000000]\n",
            " [42.7997159 40.8000000]\n",
            " [52.1199430 52.2000000]\n",
            " [47.2216152 47.1000000]]\n"
          ]
        }
      ]
    },
    {
      "cell_type": "code",
      "metadata": {
        "colab": {
          "base_uri": "https://localhost:8080/"
        },
        "id": "FQKYNnmmCVUk",
        "outputId": "ac752cde-1891-4249-f91c-658b9506a8b8"
      },
      "source": [
        "#evalute the model performance\n",
        "from sklearn.metrics import r2_score\n",
        "r2_score(y_test, y_pred_new)"
      ],
      "execution_count": 27,
      "outputs": [
        {
          "output_type": "execute_result",
          "data": {
            "text/plain": [
              "0.9916092070641795"
            ]
          },
          "metadata": {},
          "execution_count": 27
        }
      ]
    },
    {
      "cell_type": "markdown",
      "metadata": {
        "id": "saXpoVdaQCAc"
      },
      "source": [
        "**Using Multiple Linear Regression model to predict prices**"
      ]
    },
    {
      "cell_type": "code",
      "metadata": {
        "id": "MvyVN4mGQJcR"
      },
      "source": [
        "#train Multiple Linear Regression model on the training set \n",
        "from sklearn.linear_model import LinearRegression\n",
        "regressor = LinearRegression()\n",
        "regressor.fit(X_train, y_train)"
      ],
      "execution_count": null,
      "outputs": []
    },
    {
      "cell_type": "code",
      "metadata": {
        "id": "GFtrurPIRaYX"
      },
      "source": [
        "#predict test results\n",
        "y_pred_lin = regressor.predict(X_test)\n",
        "print(y_pred_lin)"
      ],
      "execution_count": null,
      "outputs": []
    },
    {
      "cell_type": "code",
      "metadata": {
        "colab": {
          "base_uri": "https://localhost:8080/"
        },
        "id": "wy1W1HORRng_",
        "outputId": "cc1ced12-0ff2-4201-8f81-e11de05068ed"
      },
      "source": [
        "#compare the predictions with y_test\n",
        "print(np.concatenate((y_pred_lin.reshape(len(y_pred_lin),1), y_test.reshape(len(y_test),1)),1))"
      ],
      "execution_count": 28,
      "outputs": [
        {
          "output_type": "stream",
          "name": "stdout",
          "text": [
            "[[34.5922245 27.3000000]\n",
            " [47.5867348 54.4000000]\n",
            " [20.9226481 22.0000000]\n",
            " [12.4940283 11.6000000]\n",
            " [43.1188736 45.4000000]\n",
            " [34.5373971 23.0000000]\n",
            " [30.9452851 21.8000000]\n",
            " [45.3257759 32.2000000]\n",
            " [38.0483907 37.4000000]\n",
            " [13.9021720 22.6000000]\n",
            " [11.8979164 17.4000000]\n",
            " [38.5261129 36.8000000]\n",
            " [31.8806310 23.1000000]\n",
            " [45.3760469 36.9000000]\n",
            " [50.8465817 56.3000000]\n",
            " [36.2862735 20.9000000]\n",
            " [44.4107239 43.5000000]\n",
            " [45.2220300 40.3000000]\n",
            " [30.0527330 27.7000000]\n",
            " [43.7588833 42.1000000]\n",
            " [51.2945605 46.6000000]\n",
            " [28.4236779 21.8000000]\n",
            " [40.0221404 38.1000000]\n",
            " [46.8361249 53.7000000]\n",
            " [45.8497463 57.1000000]\n",
            " [27.9286420 26.6000000]\n",
            " [31.2219743 32.1000000]\n",
            " [47.7602854 56.8000000]\n",
            " [46.2885470 43.1000000]\n",
            " [15.0795206 16.7000000]\n",
            " [33.7556903 33.4000000]\n",
            " [34.8340303 34.2000000]\n",
            " [42.3205606 39.6000000]\n",
            " [44.6327856 52.5000000]\n",
            " [48.2258074 47.1000000]\n",
            " [12.9708751 13.0000000]\n",
            " [41.1958697 37.5000000]\n",
            " [41.2371303 32.5000000]\n",
            " [38.9984543 42.3000000]\n",
            " [13.3410848 20.5000000]\n",
            " [39.1770681 40.3000000]\n",
            " [24.4238014 16.1000000]\n",
            " [54.5917341 58.1000000]\n",
            " [36.6084182 33.4000000]\n",
            " [34.9046283 30.8000000]\n",
            " [38.8734926 21.7000000]\n",
            " [30.7001392 20.9000000]\n",
            " [39.5432526 42.5000000]\n",
            " [45.8627657 38.1000000]\n",
            " [34.2581224 39.6000000]\n",
            " [11.3487033 18.6000000]\n",
            " [44.6091258 44.3000000]\n",
            " [44.9074204 39.7000000]\n",
            " [13.8095843 15.4000000]\n",
            " [49.0062395 50.8000000]\n",
            " [42.2743465 36.3000000]\n",
            " [44.2330753 52.2000000]\n",
            " [39.3985024 37.8000000]\n",
            " [38.0768146 26.5000000]\n",
            " [39.6775694 42.5000000]\n",
            " [25.0780227 12.8000000]\n",
            " [40.2290316 32.9000000]\n",
            " [35.2313872 29.4000000]\n",
            " [12.7383966 19.2000000]\n",
            " [40.2822756 42.6000000]\n",
            " [45.0905592 32.4000000]\n",
            " [39.4620461 42.7000000]\n",
            " [47.1940362 42.3000000]\n",
            " [14.2392040 15.9000000]\n",
            " [40.3161373 43.9000000]\n",
            " [47.6692452 44.5000000]\n",
            " [9.0097350 15.5000000]\n",
            " [33.9165220 29.8000000]\n",
            " [39.4240646 24.5000000]\n",
            " [49.3609924 50.0000000]\n",
            " [37.7823024 37.2000000]\n",
            " [35.7489971 30.9000000]\n",
            " [38.3323727 37.0000000]\n",
            " [40.8420855 33.1000000]\n",
            " [48.1329144 59.6000000]\n",
            " [45.7485865 40.8000000]\n",
            " [41.0697890 52.2000000]\n",
            " [45.7576351 47.1000000]]\n"
          ]
        }
      ]
    },
    {
      "cell_type": "code",
      "metadata": {
        "colab": {
          "base_uri": "https://localhost:8080/"
        },
        "id": "3qlphKBuWkXw",
        "outputId": "ff9dc2e6-f573-42bb-f3e6-ba2ddb432344"
      },
      "source": [
        "#evalute the model performance\n",
        "from sklearn.metrics import r2_score\n",
        "r2_score(y_test, y_pred_lin)"
      ],
      "execution_count": 19,
      "outputs": [
        {
          "output_type": "execute_result",
          "data": {
            "text/plain": [
              "0.7061990777414744"
            ]
          },
          "metadata": {},
          "execution_count": 19
        }
      ]
    }
  ]
}