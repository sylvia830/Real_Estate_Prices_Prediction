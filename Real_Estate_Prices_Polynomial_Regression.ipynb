{
  "nbformat": 4,
  "nbformat_minor": 0,
  "metadata": {
    "colab": {
      "name": "Real_Estate_Prices_Polynomial_Regression",
      "provenance": [],
      "authorship_tag": "ABX9TyPl5NTEeUFatHg1nL2hIR63",
      "include_colab_link": true
    },
    "kernelspec": {
      "name": "python3",
      "display_name": "Python 3"
    },
    "language_info": {
      "name": "python"
    }
  },
  "cells": [
    {
      "cell_type": "markdown",
      "metadata": {
        "id": "view-in-github",
        "colab_type": "text"
      },
      "source": [
        "<a href=\"https://colab.research.google.com/github/sylvia830/Real_Estate_Prices_Prediction/blob/main/Real_Estate_Prices_Polynomial_Regression.ipynb\" target=\"_parent\"><img src=\"https://colab.research.google.com/assets/colab-badge.svg\" alt=\"Open In Colab\"/></a>"
      ]
    },
    {
      "cell_type": "code",
      "metadata": {
        "id": "LS-SBMEJ-fTr"
      },
      "source": [
        "#import libraries\n",
        "import numpy as np\n",
        "import matplotlib.pyplot as plt\n",
        "import pandas as pd\n",
        "import seaborn as sns "
      ],
      "execution_count": 7,
      "outputs": []
    },
    {
      "cell_type": "code",
      "metadata": {
        "id": "ONDe_vpo_sqZ"
      },
      "source": [
        "#import dataset\n",
        "dataset = pd.read_csv('Real estate.csv')\n",
        "X = dataset.iloc[:, :-1].values\n",
        "y = dataset.iloc[:,-1].values"
      ],
      "execution_count": 8,
      "outputs": []
    },
    {
      "cell_type": "code",
      "metadata": {
        "colab": {
          "base_uri": "https://localhost:8080/",
          "height": 224
        },
        "id": "vgYF1zd8A-Au",
        "outputId": "2c0fc498-836e-4ca9-d868-ff40f9df599b"
      },
      "source": [
        "dataset.head()"
      ],
      "execution_count": 3,
      "outputs": [
        {
          "output_type": "execute_result",
          "data": {
            "text/html": [
              "<div>\n",
              "<style scoped>\n",
              "    .dataframe tbody tr th:only-of-type {\n",
              "        vertical-align: middle;\n",
              "    }\n",
              "\n",
              "    .dataframe tbody tr th {\n",
              "        vertical-align: top;\n",
              "    }\n",
              "\n",
              "    .dataframe thead th {\n",
              "        text-align: right;\n",
              "    }\n",
              "</style>\n",
              "<table border=\"1\" class=\"dataframe\">\n",
              "  <thead>\n",
              "    <tr style=\"text-align: right;\">\n",
              "      <th></th>\n",
              "      <th>No</th>\n",
              "      <th>X1 transaction date</th>\n",
              "      <th>X2 house age</th>\n",
              "      <th>X3 distance to the nearest MRT station</th>\n",
              "      <th>X4 number of convenience stores</th>\n",
              "      <th>X5 latitude</th>\n",
              "      <th>X6 longitude</th>\n",
              "      <th>Y house price of unit area</th>\n",
              "    </tr>\n",
              "  </thead>\n",
              "  <tbody>\n",
              "    <tr>\n",
              "      <th>0</th>\n",
              "      <td>1</td>\n",
              "      <td>2012.917</td>\n",
              "      <td>32.0</td>\n",
              "      <td>84.87882</td>\n",
              "      <td>10</td>\n",
              "      <td>24.98298</td>\n",
              "      <td>121.54024</td>\n",
              "      <td>37.9</td>\n",
              "    </tr>\n",
              "    <tr>\n",
              "      <th>1</th>\n",
              "      <td>2</td>\n",
              "      <td>2012.917</td>\n",
              "      <td>19.5</td>\n",
              "      <td>306.59470</td>\n",
              "      <td>9</td>\n",
              "      <td>24.98034</td>\n",
              "      <td>121.53951</td>\n",
              "      <td>42.2</td>\n",
              "    </tr>\n",
              "    <tr>\n",
              "      <th>2</th>\n",
              "      <td>3</td>\n",
              "      <td>2013.583</td>\n",
              "      <td>13.3</td>\n",
              "      <td>561.98450</td>\n",
              "      <td>5</td>\n",
              "      <td>24.98746</td>\n",
              "      <td>121.54391</td>\n",
              "      <td>47.3</td>\n",
              "    </tr>\n",
              "    <tr>\n",
              "      <th>3</th>\n",
              "      <td>4</td>\n",
              "      <td>2013.500</td>\n",
              "      <td>13.3</td>\n",
              "      <td>561.98450</td>\n",
              "      <td>5</td>\n",
              "      <td>24.98746</td>\n",
              "      <td>121.54391</td>\n",
              "      <td>54.8</td>\n",
              "    </tr>\n",
              "    <tr>\n",
              "      <th>4</th>\n",
              "      <td>5</td>\n",
              "      <td>2012.833</td>\n",
              "      <td>5.0</td>\n",
              "      <td>390.56840</td>\n",
              "      <td>5</td>\n",
              "      <td>24.97937</td>\n",
              "      <td>121.54245</td>\n",
              "      <td>43.1</td>\n",
              "    </tr>\n",
              "  </tbody>\n",
              "</table>\n",
              "</div>"
            ],
            "text/plain": [
              "   No  X1 transaction date  ...  X6 longitude  Y house price of unit area\n",
              "0   1             2012.917  ...     121.54024                        37.9\n",
              "1   2             2012.917  ...     121.53951                        42.2\n",
              "2   3             2013.583  ...     121.54391                        47.3\n",
              "3   4             2013.500  ...     121.54391                        54.8\n",
              "4   5             2012.833  ...     121.54245                        43.1\n",
              "\n",
              "[5 rows x 8 columns]"
            ]
          },
          "metadata": {},
          "execution_count": 3
        }
      ]
    },
    {
      "cell_type": "code",
      "metadata": {
        "colab": {
          "base_uri": "https://localhost:8080/"
        },
        "id": "89iy0ngpKUTj",
        "outputId": "cd49cbb5-dd5a-4add-ee9d-b81919cff230"
      },
      "source": [
        "#give a brief summary of the dataset\n",
        "dataset.info(null_counts=False)"
      ],
      "execution_count": 4,
      "outputs": [
        {
          "output_type": "stream",
          "name": "stdout",
          "text": [
            "<class 'pandas.core.frame.DataFrame'>\n",
            "RangeIndex: 414 entries, 0 to 413\n",
            "Data columns (total 8 columns):\n",
            " #   Column                                  Dtype  \n",
            "---  ------                                  -----  \n",
            " 0   No                                      int64  \n",
            " 1   X1 transaction date                     float64\n",
            " 2   X2 house age                            float64\n",
            " 3   X3 distance to the nearest MRT station  float64\n",
            " 4   X4 number of convenience stores         int64  \n",
            " 5   X5 latitude                             float64\n",
            " 6   X6 longitude                            float64\n",
            " 7   Y house price of unit area              float64\n",
            "dtypes: float64(6), int64(2)\n",
            "memory usage: 26.0 KB\n"
          ]
        }
      ]
    },
    {
      "cell_type": "code",
      "metadata": {
        "colab": {
          "base_uri": "https://localhost:8080/",
          "height": 439
        },
        "id": "S5Qm5DgEhv7X",
        "outputId": "044fba9e-37f8-479b-ae91-ea0d80056210"
      },
      "source": [
        "dataset.corr()"
      ],
      "execution_count": 9,
      "outputs": [
        {
          "output_type": "execute_result",
          "data": {
            "text/html": [
              "<div>\n",
              "<style scoped>\n",
              "    .dataframe tbody tr th:only-of-type {\n",
              "        vertical-align: middle;\n",
              "    }\n",
              "\n",
              "    .dataframe tbody tr th {\n",
              "        vertical-align: top;\n",
              "    }\n",
              "\n",
              "    .dataframe thead th {\n",
              "        text-align: right;\n",
              "    }\n",
              "</style>\n",
              "<table border=\"1\" class=\"dataframe\">\n",
              "  <thead>\n",
              "    <tr style=\"text-align: right;\">\n",
              "      <th></th>\n",
              "      <th>No</th>\n",
              "      <th>X1 transaction date</th>\n",
              "      <th>X2 house age</th>\n",
              "      <th>X3 distance to the nearest MRT station</th>\n",
              "      <th>X4 number of convenience stores</th>\n",
              "      <th>X5 latitude</th>\n",
              "      <th>X6 longitude</th>\n",
              "      <th>Y house price of unit area</th>\n",
              "    </tr>\n",
              "  </thead>\n",
              "  <tbody>\n",
              "    <tr>\n",
              "      <th>No</th>\n",
              "      <td>1.000000</td>\n",
              "      <td>-0.048658</td>\n",
              "      <td>-0.032808</td>\n",
              "      <td>-0.013573</td>\n",
              "      <td>-0.012699</td>\n",
              "      <td>-0.010110</td>\n",
              "      <td>-0.011059</td>\n",
              "      <td>-0.028587</td>\n",
              "    </tr>\n",
              "    <tr>\n",
              "      <th>X1 transaction date</th>\n",
              "      <td>-0.048658</td>\n",
              "      <td>1.000000</td>\n",
              "      <td>0.017549</td>\n",
              "      <td>0.060880</td>\n",
              "      <td>0.009635</td>\n",
              "      <td>0.035058</td>\n",
              "      <td>-0.041082</td>\n",
              "      <td>0.087491</td>\n",
              "    </tr>\n",
              "    <tr>\n",
              "      <th>X2 house age</th>\n",
              "      <td>-0.032808</td>\n",
              "      <td>0.017549</td>\n",
              "      <td>1.000000</td>\n",
              "      <td>0.025622</td>\n",
              "      <td>0.049593</td>\n",
              "      <td>0.054420</td>\n",
              "      <td>-0.048520</td>\n",
              "      <td>-0.210567</td>\n",
              "    </tr>\n",
              "    <tr>\n",
              "      <th>X3 distance to the nearest MRT station</th>\n",
              "      <td>-0.013573</td>\n",
              "      <td>0.060880</td>\n",
              "      <td>0.025622</td>\n",
              "      <td>1.000000</td>\n",
              "      <td>-0.602519</td>\n",
              "      <td>-0.591067</td>\n",
              "      <td>-0.806317</td>\n",
              "      <td>-0.673613</td>\n",
              "    </tr>\n",
              "    <tr>\n",
              "      <th>X4 number of convenience stores</th>\n",
              "      <td>-0.012699</td>\n",
              "      <td>0.009635</td>\n",
              "      <td>0.049593</td>\n",
              "      <td>-0.602519</td>\n",
              "      <td>1.000000</td>\n",
              "      <td>0.444143</td>\n",
              "      <td>0.449099</td>\n",
              "      <td>0.571005</td>\n",
              "    </tr>\n",
              "    <tr>\n",
              "      <th>X5 latitude</th>\n",
              "      <td>-0.010110</td>\n",
              "      <td>0.035058</td>\n",
              "      <td>0.054420</td>\n",
              "      <td>-0.591067</td>\n",
              "      <td>0.444143</td>\n",
              "      <td>1.000000</td>\n",
              "      <td>0.412924</td>\n",
              "      <td>0.546307</td>\n",
              "    </tr>\n",
              "    <tr>\n",
              "      <th>X6 longitude</th>\n",
              "      <td>-0.011059</td>\n",
              "      <td>-0.041082</td>\n",
              "      <td>-0.048520</td>\n",
              "      <td>-0.806317</td>\n",
              "      <td>0.449099</td>\n",
              "      <td>0.412924</td>\n",
              "      <td>1.000000</td>\n",
              "      <td>0.523287</td>\n",
              "    </tr>\n",
              "    <tr>\n",
              "      <th>Y house price of unit area</th>\n",
              "      <td>-0.028587</td>\n",
              "      <td>0.087491</td>\n",
              "      <td>-0.210567</td>\n",
              "      <td>-0.673613</td>\n",
              "      <td>0.571005</td>\n",
              "      <td>0.546307</td>\n",
              "      <td>0.523287</td>\n",
              "      <td>1.000000</td>\n",
              "    </tr>\n",
              "  </tbody>\n",
              "</table>\n",
              "</div>"
            ],
            "text/plain": [
              "                                              No  ...  Y house price of unit area\n",
              "No                                      1.000000  ...                   -0.028587\n",
              "X1 transaction date                    -0.048658  ...                    0.087491\n",
              "X2 house age                           -0.032808  ...                   -0.210567\n",
              "X3 distance to the nearest MRT station -0.013573  ...                   -0.673613\n",
              "X4 number of convenience stores        -0.012699  ...                    0.571005\n",
              "X5 latitude                            -0.010110  ...                    0.546307\n",
              "X6 longitude                           -0.011059  ...                    0.523287\n",
              "Y house price of unit area             -0.028587  ...                    1.000000\n",
              "\n",
              "[8 rows x 8 columns]"
            ]
          },
          "metadata": {},
          "execution_count": 9
        }
      ]
    },
    {
      "cell_type": "markdown",
      "metadata": {
        "id": "lbeyKGWTidnI"
      },
      "source": [
        "**Data Visualization**"
      ]
    },
    {
      "cell_type": "code",
      "metadata": {
        "colab": {
          "base_uri": "https://localhost:8080/",
          "height": 470
        },
        "id": "4mjtnnnhikv0",
        "outputId": "fb429134-ce89-47c0-93e8-2ea05d5eae18"
      },
      "source": [
        "#heatmap to illustrate the correlation amomg the variables\n",
        "sns.heatmap(dataset.corr(), annot= True, cmap=\"YlGnBu\", linewidths=.5)"
      ],
      "execution_count": 10,
      "outputs": [
        {
          "output_type": "execute_result",
          "data": {
            "text/plain": [
              "<matplotlib.axes._subplots.AxesSubplot at 0x7fe36bb27510>"
            ]
          },
          "metadata": {},
          "execution_count": 10
        },
        {
          "output_type": "display_data",
          "data": {
            "image/png": "[encoded data removed]",
            "text/plain": [
              "<Figure size 432x288 with 2 Axes>"
            ]
          },
          "metadata": {
            "needs_background": "light"
          }
        }
      ]
    },
    {
      "cell_type": "code",
      "metadata": {
        "colab": {
          "base_uri": "https://localhost:8080/",
          "height": 399
        },
        "id": "KFw3kGVIpOnW",
        "outputId": "536378e7-4d81-4fca-bda7-43f4573a11a5"
      },
      "source": [
        "#alternative version of the heatmap\n",
        "def heatmap(x,y,size):\n",
        "  fig, ax = plt.subplots()\n",
        "   # Mapping from column names to integer coordinates\n",
        "  x_labels = [v for v in sorted(x.unique())]\n",
        "  y_labels = [v for v in sorted(y.unique())]\n",
        "  x_to_num = {p[1]:p[0] for p in enumerate(x_labels)} \n",
        "  y_to_num = {p[1]:p[0] for p in enumerate(y_labels)} \n",
        "    \n",
        "  size_scale = 500\n",
        "  ax.scatter(\n",
        "      x=x.map(x_to_num), # Use mapping for x\n",
        "      y=y.map(y_to_num), # Use mapping for y\n",
        "      s=size * size_scale, # Vector of square sizes, proportional to size parameter\n",
        "      marker='s' # Use square as scatterplot marker\n",
        "    )\n",
        "\n",
        "    \n",
        "  # Show column labels on the axes\n",
        "  ax.set_xticks([x_to_num[v] for v in x_labels])\n",
        "  ax.set_xticklabels(x_labels, rotation=45, horizontalalignment='right')\n",
        "  ax.set_yticks([y_to_num[v] for v in y_labels])\n",
        "  ax.set_yticklabels(y_labels)\n",
        "\n",
        "  ax.grid(False, 'major')\n",
        "  ax.grid(True, 'minor')\n",
        "  ax.set_xticks([t + 0.5 for t in ax.get_xticks()], minor=True)\n",
        "  ax.set_yticks([t + 0.5 for t in ax.get_yticks()], minor=True)\n",
        "\n",
        "  ax.set_xlim([-0.5, max([v for v in x_to_num.values()]) + 0.5]) \n",
        "  ax.set_ylim([-0.5, max([v for v in y_to_num.values()]) + 0.5])\n",
        "\n",
        "     \n",
        "data = pd.read_csv('Real estate.csv')\n",
        "columns = ['No', 'X1 transaction date', 'X2 house age', \n",
        "           'X3 distance to the nearest MRT station', \n",
        "           'X4 number of convenience stores', 'X5 latitude','X6 longitude',\n",
        "           'Y house price of unit area'] \n",
        "corr = data[columns].corr()\n",
        "corr = pd.melt(corr.reset_index(), id_vars='index') # Unpivot the dataframe, so we can get pair of arrays for x and y\n",
        "corr.columns = ['x', 'y', 'value']\n",
        "heatmap(\n",
        "    x=corr['x'],\n",
        "    y=corr['y'],\n",
        "    size=corr['value'].abs()\n",
        ")\n"
      ],
      "execution_count": 22,
      "outputs": [
        {
          "output_type": "display_data",
          "data": {
            "image/png": "[encoded data removed]",
            "text/plain": [
              "<Figure size 432x288 with 1 Axes>"
            ]
          },
          "metadata": {
            "needs_background": "light"
          }
        }
      ]
    },
    {
      "cell_type": "code",
      "metadata": {
        "id": "ZM9Sbk9dBuC_"
      },
      "source": [
        "#split the dataset into training set and test set\n",
        "from sklearn.model_selection import train_test_split\n",
        "X_train, X_test, y_train, y_test = train_test_split(X, y, test_size = 0.2, random_state = 1)"
      ],
      "execution_count": null,
      "outputs": []
    },
    {
      "cell_type": "code",
      "metadata": {
        "id": "mEOulzgTFrj6"
      },
      "source": [
        "#convert the scientific notation to float notation\n",
        "float_formatter = \"{:.7f}\".format\n",
        "np.set_printoptions(formatter={'float_kind':float_formatter})\n",
        "print(X_test)"
      ],
      "execution_count": null,
      "outputs": []
    },
    {
      "cell_type": "markdown",
      "metadata": {
        "id": "htUQ_JLOPmUj"
      },
      "source": [
        "**Using Polynomial Regression model to predict the prices:**"
      ]
    },
    {
      "cell_type": "code",
      "metadata": {
        "id": "EIRy8hAOFxSJ"
      },
      "source": [
        "#train the polynomial model on the training set \n",
        "from sklearn.preprocessing import PolynomialFeatures\n",
        "from sklearn.linear_model import LinearRegression\n",
        "poly_reg =PolynomialFeatures(degree = 2)\n",
        "x_poly = poly_reg.fit_transform(X)\n",
        "lin_reg = LinearRegression()\n",
        "lin_reg.fit(x_poly, y)"
      ],
      "execution_count": null,
      "outputs": []
    },
    {
      "cell_type": "code",
      "metadata": {
        "id": "3KiSjPN_NLhz"
      },
      "source": [
        "#predict test results\n",
        "y_pred = lin_reg.predict(poly_reg.fit_transform(X_test))\n",
        "print(y_pred)"
      ],
      "execution_count": null,
      "outputs": []
    },
    {
      "cell_type": "code",
      "metadata": {
        "id": "_i9zoHW-O4ns"
      },
      "source": [
        "#compare predicted results with y_test\n",
        "print(np.concatenate((y_pred.reshape(len(y_pred),1),y_test.reshape(len(y_test),1)), 1))"
      ],
      "execution_count": null,
      "outputs": []
    },
    {
      "cell_type": "code",
      "metadata": {
        "colab": {
          "base_uri": "https://localhost:8080/"
        },
        "id": "T8V8E8wGRocI",
        "outputId": "e9ddcaa0-1fd6-4dae-ec9b-9234c6fb6946"
      },
      "source": [
        "#evaluate the model performance\n",
        "from sklearn.metrics import r2_score\n",
        "r2_score(y_test, y_pred)"
      ],
      "execution_count": null,
      "outputs": [
        {
          "output_type": "execute_result",
          "data": {
            "text/plain": [
              "0.7934773157035822"
            ]
          },
          "metadata": {},
          "execution_count": 23
        }
      ]
    },
    {
      "cell_type": "code",
      "metadata": {
        "id": "b71LFMWq_23t"
      },
      "source": [
        "#train the polynomial regression model on the training set with a degree of 7\n",
        "from sklearn.preprocessing import PolynomialFeatures\n",
        "from sklearn.linear_model import LinearRegression\n",
        "poly_reg1 = PolynomialFeatures(degree=7)\n",
        "x_poly1 = poly_reg1.fit_transform(X)\n",
        "lin_reg1 = LinearRegression()\n",
        "lin_reg1.fit(x_poly1, y)"
      ],
      "execution_count": null,
      "outputs": []
    },
    {
      "cell_type": "code",
      "metadata": {
        "id": "88dsiD8BBSEc"
      },
      "source": [
        "#predict the results for new degree\n",
        "y_pred_new = lin_reg1.predict(poly_reg1.fit_transform(X_test))\n",
        "print(y_pred_new)"
      ],
      "execution_count": null,
      "outputs": []
    },
    {
      "cell_type": "code",
      "metadata": {
        "id": "JBhYe81TBu58"
      },
      "source": [
        "#compare the new results with y_test\n",
        "print(np.concatenate((y_pred_new.reshape(len(y_pred_new),1), y_test.reshape(len(y_test),1)),1))"
      ],
      "execution_count": null,
      "outputs": []
    },
    {
      "cell_type": "code",
      "metadata": {
        "colab": {
          "base_uri": "https://localhost:8080/"
        },
        "id": "FQKYNnmmCVUk",
        "outputId": "ac752cde-1891-4249-f91c-658b9506a8b8"
      },
      "source": [
        "#evalute the model performance\n",
        "from sklearn.metrics import r2_score\n",
        "r2_score(y_test, y_pred_new)"
      ],
      "execution_count": null,
      "outputs": [
        {
          "output_type": "execute_result",
          "data": {
            "text/plain": [
              "0.9916092070641795"
            ]
          },
          "metadata": {},
          "execution_count": 27
        }
      ]
    },
    {
      "cell_type": "markdown",
      "metadata": {
        "id": "saXpoVdaQCAc"
      },
      "source": [
        "**Using Multiple Linear Regression model to predict prices**"
      ]
    },
    {
      "cell_type": "code",
      "metadata": {
        "id": "MvyVN4mGQJcR"
      },
      "source": [
        "#train Multiple Linear Regression model on the training set \n",
        "from sklearn.linear_model import LinearRegression\n",
        "regressor = LinearRegression()\n",
        "regressor.fit(X_train, y_train)"
      ],
      "execution_count": null,
      "outputs": []
    },
    {
      "cell_type": "code",
      "metadata": {
        "id": "GFtrurPIRaYX"
      },
      "source": [
        "#predict test results\n",
        "y_pred_lin = regressor.predict(X_test)\n",
        "print(y_pred_lin)"
      ],
      "execution_count": null,
      "outputs": []
    },
    {
      "cell_type": "code",
      "metadata": {
        "id": "wy1W1HORRng_"
      },
      "source": [
        "#compare the predictions with y_test\n",
        "print(np.concatenate((y_pred_lin.reshape(len(y_pred_lin),1), y_test.reshape(len(y_test),1)),1))"
      ],
      "execution_count": null,
      "outputs": []
    },
    {
      "cell_type": "code",
      "metadata": {
        "colab": {
          "base_uri": "https://localhost:8080/"
        },
        "id": "3qlphKBuWkXw",
        "outputId": "ff9dc2e6-f573-42bb-f3e6-ba2ddb432344"
      },
      "source": [
        "#evalute the model performance\n",
        "from sklearn.metrics import r2_score\n",
        "r2_score(y_test, y_pred_lin)"
      ],
      "execution_count": null,
      "outputs": [
        {
          "output_type": "execute_result",
          "data": {
            "text/plain": [
              "0.7061990777414744"
            ]
          },
          "metadata": {},
          "execution_count": 19
        }
      ]
    }
  ]
}